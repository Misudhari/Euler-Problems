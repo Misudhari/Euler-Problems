{
  "nbformat": 4,
  "nbformat_minor": 0,
  "metadata": {
    "colab": {
      "provenance": [],
      "mount_file_id": "18GGi_u99iz4q6JMcarqTbDBAOYpuXQlE",
      "authorship_tag": "ABX9TyNB1K9OhQ89XP3e/pDtUO7w",
      "include_colab_link": true
    },
    "kernelspec": {
      "name": "python3",
      "display_name": "Python 3"
    },
    "language_info": {
      "name": "python"
    }
  },
  "cells": [
    {
      "cell_type": "markdown",
      "metadata": {
        "id": "view-in-github",
        "colab_type": "text"
      },
      "source": [
        "<a href=\"https://colab.research.google.com/github/Misudhari/Euler-Problems/blob/main/Set_1.ipynb\" target=\"_parent\"><img src=\"https://colab.research.google.com/assets/colab-badge.svg\" alt=\"Open In Colab\"/></a>"
      ]
    },
    {
      "cell_type": "markdown",
      "source": [
        "#Problem 1\n",
        "Multiples of 3 or 5\n"
      ],
      "metadata": {
        "id": "FCZZrpC2l2wX"
      }
    },
    {
      "cell_type": "code",
      "execution_count": 3,
      "metadata": {
        "colab": {
          "base_uri": "https://localhost:8080/"
        },
        "id": "87T-8GTHll_O",
        "outputId": "c479f5bc-3fdf-4189-f09c-c8432546704a"
      },
      "outputs": [
        {
          "output_type": "stream",
          "name": "stdout",
          "text": [
            "9\n",
            "9 is multiple of 3\n"
          ]
        }
      ],
      "source": [
        "x = int(input())\n",
        "\n",
        "if x % 3 == 0 and x % 5 == 0:\n",
        "  print(\"{} is multiple of 3 and 5\".format(x))\n",
        "elif x % 3 == 0:\n",
        "  print(\"{} is multiple of 3\".format(x))\n",
        "elif x % 5 == 0:\n",
        "  print(\"{} is multiple of 5\".format(x))"
      ]
    },
    {
      "cell_type": "markdown",
      "source": [
        "#Problem 2\n",
        "Even Fibonacci numbers"
      ],
      "metadata": {
        "id": "-AQlhME0nk13"
      }
    },
    {
      "cell_type": "code",
      "source": [],
      "metadata": {
        "id": "v1mGZ9wQnOvN"
      },
      "execution_count": null,
      "outputs": []
    }
  ]
}